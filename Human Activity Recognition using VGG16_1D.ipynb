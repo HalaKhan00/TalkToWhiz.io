{
  "nbformat": 4,
  "nbformat_minor": 0,
  "metadata": {
    "colab": {
      "provenance": [],
      "gpuType": "T4"
    },
    "kernelspec": {
      "name": "python3",
      "display_name": "Python 3"
    },
    "language_info": {
      "name": "python"
    },
    "accelerator": "GPU",
    "gpuClass": "standard"
  },
  "cells": [
    {
      "cell_type": "code",
      "execution_count": null,
      "metadata": {
        "id": "idU0jJj6ZXWQ"
      },
      "outputs": [],
      "source": [
        "import numpy as np\n",
        "import pandas as pd\n",
        "from sklearn.model_selection import train_test_split\n",
        "from tensorflow.keras.utils import to_categorical\n",
        "from tensorflow.keras.optimizers import SGD\n",
        "from tensorflow.keras.preprocessing.sequence import pad_sequences\n",
        "from tensorflow.keras.callbacks import LearningRateScheduler"
      ]
    },
    {
      "cell_type": "code",
      "source": [
        "from zipfile import ZipFile\n",
        "\n",
        "dataset = '/content/UCI_HAR_Dataset.zip'\n",
        "\n",
        "with ZipFile (dataset,'r') as zip:\n",
        "  zip.extractall()\n",
        "  print('Extracted successfully')"
      ],
      "metadata": {
        "id": "naxZbKz2m4O6"
      },
      "execution_count": null,
      "outputs": []
    },
    {
      "cell_type": "code",
      "source": [],
      "metadata": {
        "id": "udUFAG-ZaqpC"
      },
      "execution_count": null,
      "outputs": []
    },
    {
      "cell_type": "code",
      "source": [
        "# Load the UCI HAR Dataset\n",
        "X_train = pd.read_csv('/content/UCI HAR Dataset/UCI HAR Dataset/train/X_train.txt', delim_whitespace=True, header=None).values\n",
        "y_train = pd.read_csv('/content/UCI HAR Dataset/UCI HAR Dataset/train/y_train.txt', delim_whitespace=True, header=None).values\n",
        "X_test = pd.read_csv('/content/UCI HAR Dataset/UCI HAR Dataset/test/X_test.txt', delim_whitespace=True, header=None).values\n",
        "y_test = pd.read_csv('/content/UCI HAR Dataset/UCI HAR Dataset/test/y_test.txt', delim_whitespace=True, header=None).values"
      ],
      "metadata": {
        "id": "vHuDXgqSoTb4"
      },
      "execution_count": null,
      "outputs": []
    },
    {
      "cell_type": "code",
      "source": [
        "# One-hot encode the labels\n",
        "y_train = to_categorical(y_train)\n",
        "y_test = to_categorical(y_test)"
      ],
      "metadata": {
        "id": "qCrW-tKpoTYg"
      },
      "execution_count": null,
      "outputs": []
    },
    {
      "cell_type": "code",
      "source": [
        "# Split the training data into train/validation sets\n",
        "X_train, X_val, y_train, y_val = train_test_split(X_train, y_train, test_size=0.2, random_state=42)"
      ],
      "metadata": {
        "id": "IXHrIQbroTWI"
      },
      "execution_count": null,
      "outputs": []
    },
    {
      "cell_type": "code",
      "source": [
        "# Reshape the data to 3D format expected by Conv1D layers\n",
        "X_train = np.reshape(X_train, (X_train.shape[0], X_train.shape[1], 1))\n",
        "X_val = np.reshape(X_val, (X_val.shape[0], X_val.shape[1], 1))\n",
        "X_test = np.reshape(X_test, (X_test.shape[0], X_test.shape[1], 1))"
      ],
      "metadata": {
        "id": "LMAg2HFipDTr"
      },
      "execution_count": null,
      "outputs": []
    },
    {
      "cell_type": "code",
      "source": [
        "# Define the model\n",
        "input_shape = (X_train.shape[1], 1)\n",
        "num_classes = y_train.shape[1]\n",
        "model = VGG16_1D(input_shape=input_shape, num_classes=num_classes)"
      ],
      "metadata": {
        "id": "QiHIe563pDQF"
      },
      "execution_count": null,
      "outputs": []
    },
    {
      "cell_type": "code",
      "source": [
        "# Compile the model\n",
        "model.compile(loss='categorical_crossentropy', optimizer=SGD(learning_rate=0.001, momentum=0.9), metrics=['accuracy'])"
      ],
      "metadata": {
        "id": "TvfvIM4tpDNz"
      },
      "execution_count": null,
      "outputs": []
    },
    {
      "cell_type": "code",
      "source": [
        "# Train the model\n",
        "from keras.callbacks import EarlyStopping\n",
        "early_stopping = EarlyStopping(monitor='val_loss', patience=10)\n",
        "history = model.fit(X_train, y_train, batch_size=64, epochs=50, validation_data=(X_val, y_val), verbose=1, callbacks=[early_stopping])"
      ],
      "metadata": {
        "colab": {
          "base_uri": "https://localhost:8080/"
        },
        "id": "CyIh1NxfpdMK",
        "outputId": "f64f257b-a2b2-4093-9eb1-c8e115c3fa26"
      },
      "execution_count": null,
      "outputs": [
        {
          "output_type": "stream",
          "name": "stdout",
          "text": [
            "Epoch 1/50\n",
            "92/92 [==============================] - 20s 82ms/step - loss: 1.9275 - accuracy: 0.1865 - val_loss: 1.9052 - val_accuracy: 0.1903\n",
            "Epoch 2/50\n",
            "92/92 [==============================] - 6s 61ms/step - loss: 1.8904 - accuracy: 0.1862 - val_loss: 1.8719 - val_accuracy: 0.1903\n",
            "Epoch 3/50\n",
            "92/92 [==============================] - 6s 65ms/step - loss: 1.8615 - accuracy: 0.1894 - val_loss: 1.8446 - val_accuracy: 0.1903\n",
            "Epoch 4/50\n",
            "92/92 [==============================] - 6s 64ms/step - loss: 1.8364 - accuracy: 0.1886 - val_loss: 1.8200 - val_accuracy: 0.1903\n",
            "Epoch 5/50\n",
            "92/92 [==============================] - 6s 63ms/step - loss: 1.8130 - accuracy: 0.1889 - val_loss: 1.7977 - val_accuracy: 0.1903\n",
            "Epoch 6/50\n",
            "92/92 [==============================] - 6s 63ms/step - loss: 1.7921 - accuracy: 0.1840 - val_loss: 1.7726 - val_accuracy: 0.1903\n",
            "Epoch 7/50\n",
            "92/92 [==============================] - 6s 64ms/step - loss: 1.7566 - accuracy: 0.1879 - val_loss: 1.7022 - val_accuracy: 0.1903\n",
            "Epoch 8/50\n",
            "92/92 [==============================] - 6s 67ms/step - loss: 1.5594 - accuracy: 0.2899 - val_loss: 1.2179 - val_accuracy: 0.4140\n",
            "Epoch 9/50\n",
            "92/92 [==============================] - 6s 67ms/step - loss: 1.1900 - accuracy: 0.3834 - val_loss: 1.0758 - val_accuracy: 0.4086\n",
            "Epoch 10/50\n",
            "92/92 [==============================] - 6s 65ms/step - loss: 1.1123 - accuracy: 0.4081 - val_loss: 1.0329 - val_accuracy: 0.5024\n",
            "Epoch 11/50\n",
            "92/92 [==============================] - 6s 68ms/step - loss: 1.0645 - accuracy: 0.4504 - val_loss: 1.0132 - val_accuracy: 0.4623\n",
            "Epoch 12/50\n",
            "92/92 [==============================] - 6s 66ms/step - loss: 1.0434 - accuracy: 0.4749 - val_loss: 0.9719 - val_accuracy: 0.5602\n",
            "Epoch 13/50\n",
            "92/92 [==============================] - 6s 68ms/step - loss: 0.9858 - accuracy: 0.5227 - val_loss: 0.8902 - val_accuracy: 0.6492\n",
            "Epoch 14/50\n",
            "92/92 [==============================] - 6s 69ms/step - loss: 0.9079 - accuracy: 0.5841 - val_loss: 0.7802 - val_accuracy: 0.6832\n",
            "Epoch 15/50\n",
            "92/92 [==============================] - 6s 67ms/step - loss: 0.7387 - accuracy: 0.6807 - val_loss: 0.5947 - val_accuracy: 0.7471\n",
            "Epoch 16/50\n",
            "92/92 [==============================] - 6s 67ms/step - loss: 0.6455 - accuracy: 0.7165 - val_loss: 0.5189 - val_accuracy: 0.7913\n",
            "Epoch 17/50\n",
            "92/92 [==============================] - 6s 68ms/step - loss: 0.5684 - accuracy: 0.7451 - val_loss: 0.5036 - val_accuracy: 0.7539\n",
            "Epoch 18/50\n",
            "92/92 [==============================] - 6s 66ms/step - loss: 0.5116 - accuracy: 0.7672 - val_loss: 0.4168 - val_accuracy: 0.8171\n",
            "Epoch 19/50\n",
            "92/92 [==============================] - 6s 68ms/step - loss: 0.4775 - accuracy: 0.7871 - val_loss: 0.4361 - val_accuracy: 0.8178\n",
            "Epoch 20/50\n",
            "92/92 [==============================] - 6s 68ms/step - loss: 0.4427 - accuracy: 0.8058 - val_loss: 0.3546 - val_accuracy: 0.8511\n",
            "Epoch 21/50\n",
            "92/92 [==============================] - 6s 66ms/step - loss: 0.3825 - accuracy: 0.8391 - val_loss: 0.3648 - val_accuracy: 0.8389\n",
            "Epoch 22/50\n",
            "92/92 [==============================] - 6s 68ms/step - loss: 0.3671 - accuracy: 0.8468 - val_loss: 0.3872 - val_accuracy: 0.8205\n",
            "Epoch 23/50\n",
            "92/92 [==============================] - 6s 68ms/step - loss: 0.3476 - accuracy: 0.8597 - val_loss: 0.2694 - val_accuracy: 0.9041\n",
            "Epoch 24/50\n",
            "92/92 [==============================] - 6s 68ms/step - loss: 0.2990 - accuracy: 0.8796 - val_loss: 0.2874 - val_accuracy: 0.8987\n",
            "Epoch 25/50\n",
            "92/92 [==============================] - 6s 66ms/step - loss: 0.2899 - accuracy: 0.8908 - val_loss: 0.2388 - val_accuracy: 0.9082\n",
            "Epoch 26/50\n",
            "92/92 [==============================] - 6s 66ms/step - loss: 0.3230 - accuracy: 0.8747 - val_loss: 0.2257 - val_accuracy: 0.9211\n",
            "Epoch 27/50\n",
            "92/92 [==============================] - 6s 68ms/step - loss: 0.2466 - accuracy: 0.9080 - val_loss: 0.2129 - val_accuracy: 0.9191\n",
            "Epoch 28/50\n",
            "92/92 [==============================] - 6s 68ms/step - loss: 0.2349 - accuracy: 0.9092 - val_loss: 0.1940 - val_accuracy: 0.9300\n",
            "Epoch 29/50\n",
            "92/92 [==============================] - 6s 69ms/step - loss: 0.2034 - accuracy: 0.9233 - val_loss: 0.2231 - val_accuracy: 0.9089\n",
            "Epoch 30/50\n",
            "92/92 [==============================] - 6s 66ms/step - loss: 0.1885 - accuracy: 0.9320 - val_loss: 0.1455 - val_accuracy: 0.9477\n",
            "Epoch 31/50\n",
            "92/92 [==============================] - 6s 66ms/step - loss: 0.1699 - accuracy: 0.9352 - val_loss: 0.1657 - val_accuracy: 0.9443\n",
            "Epoch 32/50\n",
            "92/92 [==============================] - 6s 68ms/step - loss: 0.1472 - accuracy: 0.9458 - val_loss: 0.1328 - val_accuracy: 0.9545\n",
            "Epoch 33/50\n",
            "92/92 [==============================] - 6s 66ms/step - loss: 0.2015 - accuracy: 0.9230 - val_loss: 0.1232 - val_accuracy: 0.9538\n",
            "Epoch 34/50\n",
            "92/92 [==============================] - 6s 66ms/step - loss: 0.1272 - accuracy: 0.9502 - val_loss: 0.1215 - val_accuracy: 0.9565\n",
            "Epoch 35/50\n",
            "92/92 [==============================] - 6s 66ms/step - loss: 0.1163 - accuracy: 0.9590 - val_loss: 0.1130 - val_accuracy: 0.9599\n",
            "Epoch 36/50\n",
            "92/92 [==============================] - 6s 66ms/step - loss: 0.1248 - accuracy: 0.9529 - val_loss: 0.1266 - val_accuracy: 0.9565\n",
            "Epoch 37/50\n",
            "92/92 [==============================] - 6s 68ms/step - loss: 0.1072 - accuracy: 0.9606 - val_loss: 0.1068 - val_accuracy: 0.9572\n",
            "Epoch 38/50\n",
            "92/92 [==============================] - 6s 66ms/step - loss: 0.0973 - accuracy: 0.9612 - val_loss: 0.0977 - val_accuracy: 0.9633\n",
            "Epoch 39/50\n",
            "92/92 [==============================] - 6s 69ms/step - loss: 0.1014 - accuracy: 0.9616 - val_loss: 0.1126 - val_accuracy: 0.9606\n",
            "Epoch 40/50\n",
            "92/92 [==============================] - 6s 68ms/step - loss: 0.0904 - accuracy: 0.9668 - val_loss: 0.0837 - val_accuracy: 0.9728\n",
            "Epoch 41/50\n",
            "92/92 [==============================] - 6s 68ms/step - loss: 0.0854 - accuracy: 0.9685 - val_loss: 0.1058 - val_accuracy: 0.9606\n",
            "Epoch 42/50\n",
            "92/92 [==============================] - 6s 66ms/step - loss: 0.0825 - accuracy: 0.9694 - val_loss: 0.1279 - val_accuracy: 0.9524\n",
            "Epoch 43/50\n",
            "92/92 [==============================] - 6s 66ms/step - loss: 0.0834 - accuracy: 0.9677 - val_loss: 0.0798 - val_accuracy: 0.9748\n",
            "Epoch 44/50\n",
            "92/92 [==============================] - 6s 66ms/step - loss: 0.0740 - accuracy: 0.9728 - val_loss: 0.0922 - val_accuracy: 0.9633\n",
            "Epoch 45/50\n",
            "92/92 [==============================] - 6s 69ms/step - loss: 0.0701 - accuracy: 0.9738 - val_loss: 0.0818 - val_accuracy: 0.9680\n",
            "Epoch 46/50\n",
            "92/92 [==============================] - 6s 66ms/step - loss: 0.0847 - accuracy: 0.9691 - val_loss: 0.0807 - val_accuracy: 0.9701\n",
            "Epoch 47/50\n",
            "92/92 [==============================] - 6s 66ms/step - loss: 0.0609 - accuracy: 0.9748 - val_loss: 0.0744 - val_accuracy: 0.9735\n",
            "Epoch 48/50\n",
            "92/92 [==============================] - 6s 66ms/step - loss: 0.0585 - accuracy: 0.9779 - val_loss: 0.1015 - val_accuracy: 0.9646\n",
            "Epoch 49/50\n",
            "92/92 [==============================] - 6s 66ms/step - loss: 0.0537 - accuracy: 0.9772 - val_loss: 0.0740 - val_accuracy: 0.9769\n",
            "Epoch 50/50\n",
            "92/92 [==============================] - 6s 66ms/step - loss: 0.0626 - accuracy: 0.9753 - val_loss: 0.0737 - val_accuracy: 0.9721\n"
          ]
        }
      ]
    },
    {
      "cell_type": "code",
      "source": [
        "# Evaluate the model on test data\n",
        "score = model.evaluate(X_test, y_test, verbose=0)\n",
        "print('Test loss:', score[0])\n",
        "print('Test accuracy:', score[1])"
      ],
      "metadata": {
        "colab": {
          "base_uri": "https://localhost:8080/"
        },
        "id": "s3KjzZzCpdA9",
        "outputId": "91414ac7-6c7c-4b8c-f1b9-4832d562e0a3"
      },
      "execution_count": null,
      "outputs": [
        {
          "output_type": "stream",
          "name": "stdout",
          "text": [
            "Test loss: 0.1423114687204361\n",
            "Test accuracy: 0.9460468292236328\n"
          ]
        }
      ]
    },
    {
      "cell_type": "code",
      "source": [],
      "metadata": {
        "id": "KRgf5PF9pvnx"
      },
      "execution_count": null,
      "outputs": []
    }
  ]
}